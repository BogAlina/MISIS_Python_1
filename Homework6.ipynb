{
 "cells": [
  {
   "cell_type": "markdown",
   "id": "85625964",
   "metadata": {},
   "source": [
    "## ДЗ"
   ]
  },
  {
   "cell_type": "markdown",
   "id": "5c50819a",
   "metadata": {},
   "source": [
    "Задача 1. Напишите программу с классом Student, в котором есть три атрибута: name, groupNumber и age. По умолчанию name = Ivan, age = 18, groupNumber = 10A. Необходимо создать пять методов: getName, getAge, getGroupNumber, setNameAge, setGroupNumber. Метод getName нужен для получения данных об имени конкретного студента, метод getAge нужен для получения данных о возрасте конкретного студента, vетод setGroupNumberнужен для получения данных о номере группы конкретного студента. Метод SetNameAge позволяет изменить данные атрибутов установленных по умолчанию, метод setGroupNumber позволяет изменить номер группы установленный по умолчанию. В программе необходимо создать пять экземпляров класса Student, установить им разные имена, возраст и номер группы."
   ]
  },
  {
   "cell_type": "code",
   "execution_count": 8,
   "id": "59b3467e",
   "metadata": {},
   "outputs": [],
   "source": [
    "class Student:\n",
    "    def __init__(self, name='Ivan', age=18, groupNumber='10A'):\n",
    "        self.name = name\n",
    "        self.age = age\n",
    "        self.groupNumber = groupNumber\n",
    "    \n",
    "    def getName(self):\n",
    "        print('Имя:',self.name)\n",
    "        \n",
    "    def getAge(self):\n",
    "        print('Возраст:',self.age)\n",
    "        \n",
    "    def getGroupNumber(self):\n",
    "        print('Номер группы:',self.groupNumber)\n",
    "        \n",
    "    def setNameAge(self, name, age):\n",
    "        self.name = name\n",
    "        self.age = age\n",
    "        \n",
    "    def setGroupNumber(self, groupNumber):\n",
    "        self.groupNumber = groupNumber"
   ]
  },
  {
   "cell_type": "code",
   "execution_count": 11,
   "id": "78b69ebf",
   "metadata": {},
   "outputs": [],
   "source": [
    "student1 = Student('Alina', 22, 'MIST-22')"
   ]
  },
  {
   "cell_type": "code",
   "execution_count": 12,
   "id": "8c1c4c8b",
   "metadata": {},
   "outputs": [
    {
     "name": "stdout",
     "output_type": "stream",
     "text": [
      "Возраст: 22\n",
      "Имя: Alina\n",
      "Номер группы: MIST-22\n"
     ]
    }
   ],
   "source": [
    "student1.getAge()\n",
    "student1.getName()\n",
    "student1.getGroupNumber()"
   ]
  },
  {
   "cell_type": "code",
   "execution_count": 13,
   "id": "0221ab80",
   "metadata": {},
   "outputs": [
    {
     "name": "stdout",
     "output_type": "stream",
     "text": [
      "Имя: Malina\n",
      "Возраст: 24\n"
     ]
    }
   ],
   "source": [
    "student1.setNameAge('Malina', 24)\n",
    "student1.getName()\n",
    "student1.getAge()"
   ]
  },
  {
   "cell_type": "code",
   "execution_count": 14,
   "id": "47af29cb",
   "metadata": {},
   "outputs": [
    {
     "name": "stdout",
     "output_type": "stream",
     "text": [
      "Номер группы: MIST-24\n"
     ]
    }
   ],
   "source": [
    "student1.setGroupNumber('MIST-24')\n",
    "student1.getGroupNumber()"
   ]
  },
  {
   "cell_type": "markdown",
   "id": "bab71137",
   "metadata": {},
   "source": [
    "Задача 2. Напишите программу с классом Car. Создайте конструктор класса Car. Создайте атрибуты класса Car — color (цвет), type (тип), year (год). Напишите пять методов. Первый — запуск автомобиля, при его вызове выводится сообщение «Автомобиль заведен». Второй — отключение автомобиля — выводит сообщение «Автомобиль заглушен». Третий — присвоение автомобилю года выпуска. Четвертый метод — присвоение автомобилю типа. Пятый — присвоение автомобилю цвета."
   ]
  },
  {
   "cell_type": "code",
   "execution_count": 22,
   "id": "0ea3fa4a",
   "metadata": {},
   "outputs": [],
   "source": [
    "class Car:\n",
    "    def __init__(self, color, type, year):\n",
    "        self.color = color\n",
    "        self.type = type\n",
    "        self.year = year\n",
    "        \n",
    "    def __str__(self):\n",
    "        return \"%s %s %s\" % (\n",
    "            self.color, self.type, self.year\n",
    "        ) \n",
    "    \n",
    "    def carStart(self):\n",
    "        print('Автомобиль заведен')\n",
    "        \n",
    "    def carTripping(self):\n",
    "        print('Автомобиль заглушен')\n",
    "        \n",
    "    def getYear(self, year):\n",
    "        self.year = year\n",
    "        \n",
    "    def getType(self, type):\n",
    "        self.type = type\n",
    "        \n",
    "    def getColor(self, color):\n",
    "        self.color = color"
   ]
  },
  {
   "cell_type": "code",
   "execution_count": 24,
   "id": "13483c3f",
   "metadata": {},
   "outputs": [],
   "source": [
    "BMV=Car('green', 2, 2000)"
   ]
  },
  {
   "cell_type": "code",
   "execution_count": 25,
   "id": "d6d8c8b1",
   "metadata": {},
   "outputs": [
    {
     "data": {
      "text/plain": [
       "'green 2 2000'"
      ]
     },
     "execution_count": 25,
     "metadata": {},
     "output_type": "execute_result"
    }
   ],
   "source": [
    "BMV.__str__()"
   ]
  },
  {
   "cell_type": "code",
   "execution_count": 27,
   "id": "64bc666a",
   "metadata": {},
   "outputs": [
    {
     "name": "stdout",
     "output_type": "stream",
     "text": [
      "Автомобиль заведен\n",
      "Автомобиль заглушен\n"
     ]
    },
    {
     "data": {
      "text/plain": [
       "'yellow 4 1907'"
      ]
     },
     "execution_count": 27,
     "metadata": {},
     "output_type": "execute_result"
    }
   ],
   "source": [
    "BMV.carStart()\n",
    "BMV.carTripping()\n",
    "BMV.getYear(1907)\n",
    "BMV.getColor('yellow')\n",
    "BMV.getType(4)\n",
    "BMV.__str__()"
   ]
  },
  {
   "cell_type": "markdown",
   "id": "9de852e2",
   "metadata": {},
   "source": [
    "Задача 3. Допишите функцию Nutrion"
   ]
  },
  {
   "cell_type": "code",
   "execution_count": 29,
   "id": "4c8f7b78",
   "metadata": {},
   "outputs": [],
   "source": [
    "class NutritionInfo:\n",
    "    def __init__(self, proteins, carbs, fats):\n",
    "        self.proteins = proteins\n",
    "        self.carbs = carbs\n",
    "        self.fats = fats\n",
    "    \n",
    "    def __add__(self, other):\n",
    "        return NutritionInfo(self.proteins + other.proteins, self.carbs + other.carbs, self.fats + other.fats)\n",
    "    \n",
    "    def __str__(self):\n",
    "        return f\"Nutrition p {self.proteins}, c {self.carbs}, f {self.fats}\"\n",
    "        \n",
    "    def energy(self):\n",
    "        return int(self.fats * 9 + (self.carbs + self.proteins) * 4.2)\n",
    "    \n",
    "    def __mul__(self, count):\n",
    "        return NutritionInfo(self.proteins * count, self.carbs * count, self.fats * count)"
   ]
  },
  {
   "cell_type": "code",
   "execution_count": null,
   "id": "9c6a5b59",
   "metadata": {},
   "outputs": [],
   "source": [
    "egg = NutritionInfo(1, 2, 3)\n",
    "pastila = NutritionInfo(1, 2, 3)\n",
    "tvorog_9 = NutritionInfo(18, 3, 9)\n",
    "apple = NutritionInfo(0, 25, 0)"
   ]
  }
 ],
 "metadata": {
  "kernelspec": {
   "display_name": "Python 3 (ipykernel)",
   "language": "python",
   "name": "python3"
  },
  "language_info": {
   "codemirror_mode": {
    "name": "ipython",
    "version": 3
   },
   "file_extension": ".py",
   "mimetype": "text/x-python",
   "name": "python",
   "nbconvert_exporter": "python",
   "pygments_lexer": "ipython3",
   "version": "3.9.12"
  }
 },
 "nbformat": 4,
 "nbformat_minor": 5
}
