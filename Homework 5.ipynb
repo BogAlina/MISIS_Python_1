{
 "cells": [
  {
   "cell_type": "markdown",
   "id": "4de401eb",
   "metadata": {},
   "source": [
    "## ДЗ"
   ]
  },
  {
   "cell_type": "markdown",
   "id": "91ac813c",
   "metadata": {},
   "source": [
    "### 1.Средний бал и список отстающих учеников"
   ]
  },
  {
   "cell_type": "code",
   "execution_count": 18,
   "id": "674eeb7f",
   "metadata": {},
   "outputs": [
    {
     "name": "stdout",
     "output_type": "stream",
     "text": [
      "Средняя оценка =  3.18\n",
      "Cписок отстающих учеников:\n",
      " ['Петров И', 'Дмитриев Н', 'Котов Д', 'Бирюкова Н', 'Лемонов Ю']\n"
     ]
    }
   ],
   "source": [
    "marks = []\n",
    "students = []\n",
    "\n",
    "with open('students.txt', 'r', encoding = \"utf-8\") as f:\n",
    "    for line in f:\n",
    "        student = line.split('.')\n",
    "        mark = int(student[1])\n",
    "        marks.append(mark)\n",
    "        avr_mark = round((sum(marks) / len(marks)),2)\n",
    "        \n",
    "        if mark < avr_mark: \n",
    "            students.append(student[0])\n",
    "         \n",
    "print(f\"Средняя оценка = \",avr_mark)\n",
    "print(f\"Cписок отстающих учеников:\\n {students}\")"
   ]
  },
  {
   "cell_type": "markdown",
   "id": "2d328101",
   "metadata": {},
   "source": [
    "### 2.Посчитать количество определенных слов в файле"
   ]
  },
  {
   "cell_type": "code",
   "execution_count": 1,
   "id": "46c7c2c4",
   "metadata": {},
   "outputs": [
    {
     "name": "stdout",
     "output_type": "stream",
     "text": [
      "Лекций: 2\n",
      "Практических: 3\n",
      "Лабораторных: 2\n"
     ]
    }
   ],
   "source": [
    "import re\n",
    "\n",
    "with open('timetable.txt', 'r', encoding = \"utf-8\") as f:\n",
    "    lines = f.read().split('\\n')\n",
    "    lec = 0\n",
    "    pract = 0\n",
    "    lab = 0\n",
    "for l in lines: \n",
    "    if re.findall(r'лекц\\S', l): \n",
    "        lec += 1\n",
    "    if re.findall(r'прак\\S', l):\n",
    "        pract += 1\n",
    "    if re.findall(r'лаб\\S', l):\n",
    "        lab += 1\n",
    "print('Лекций:', lec)\n",
    "print('Практических:', pract)\n",
    "print('Лабораторных:', lab)"
   ]
  },
  {
   "cell_type": "markdown",
   "id": "cc904ff9",
   "metadata": {},
   "source": [
    "### 3.Откройте Telegram, найдите @BotFather и начните беседу. Отправьте команду /newbot и следуйте инструкциям."
   ]
  },
  {
   "cell_type": "markdown",
   "id": "7b11e1f0",
   "metadata": {},
   "source": [
    "https://t.me/boooooog_bot"
   ]
  },
  {
   "cell_type": "markdown",
   "id": "715daf27",
   "metadata": {},
   "source": [
    "### 4. Выведите список файлов в указанной директории. например где у вас лежат ваши тетради"
   ]
  },
  {
   "cell_type": "code",
   "execution_count": 2,
   "id": "c1ffe14a",
   "metadata": {},
   "outputs": [
    {
     "name": "stdout",
     "output_type": "stream",
     "text": [
      "Текущая директория:\n",
      "1 .ipynb_checkpoints\n",
      "2 0.jpg\n",
      "3 Dashboard.jpg\n",
      "4 Homework 3.ipynb\n",
      "5 Homework 4.ipynb\n",
      "6 Homework 5.ipynb\n",
      "7 Homework 55.ipynb\n",
      "8 L3 .ipynb\n",
      "9 Thumbs.db\n",
      "10 students.txt\n",
      "11 timetable.txt\n",
      "12 ДЗ_группировка.ipynb\n"
     ]
    }
   ],
   "source": [
    "import os\n",
    "directory = sorted(os.listdir())\n",
    "print(\"Текущая директория:\")\n",
    "for n, item in enumerate(directory):\n",
    "    print(n+1, item) "
   ]
  },
  {
   "cell_type": "markdown",
   "id": "93f13a51",
   "metadata": {},
   "source": [
    "### 4.Напишите программу, которая принимает текст и выводит два слова: наиболее часто встречающееся и самое длинное"
   ]
  },
  {
   "cell_type": "code",
   "execution_count": 3,
   "id": "90b5c0f3",
   "metadata": {},
   "outputs": [],
   "source": [
    "def mention(text):\n",
    "    count = 0\n",
    "    index = 0\n",
    "    mylist = text.split()\n",
    "    for i, val in enumerate(mylist):\n",
    "        p = mylist.count(val)\n",
    "        if p > count:\n",
    "            count = p\n",
    "            index = i\n",
    "    print(f\"Наиболее часто встречающееся: {mylist[index]} \\nCамое длинное: {max(mylist, key=len)}\")"
   ]
  },
  {
   "cell_type": "code",
   "execution_count": 4,
   "id": "54a94238",
   "metadata": {},
   "outputs": [
    {
     "name": "stdout",
     "output_type": "stream",
     "text": [
      "Наиболее часто встречающееся: И \n",
      "Cамое длинное: храброславленный\n"
     ]
    }
   ],
   "source": [
    "mention('''Варкалось. Хливкие шорьки Пырялись по наве, И хрюкотали зелюки, Как мюмзики в мове.\n",
    "\n",
    "О, бойся Бармаглота, сын! Он так свирлеп и дик! А в глу́ше ры́мит исполин — Злопастный Брандашмыг!\n",
    "\n",
    "Но взял он меч, и взял он щит, Высоких по\n",
    "лон дум. В глущобу путь его лежит Под дерево Тумтум.\n",
    "\n",
    "Он стал под дерево и ждёт. И вдруг граахнул гром — Летит ужасный Бармаглот И пылкает огнём!\n",
    "\n",
    "Раз-два, раз-два! Горит трава, Взы-взы — стрижает меч, Ува! Ува! И голова Барабардает с плеч!\n",
    "\n",
    "О светозарный мальчик мой! Ты победил в бою! О храброславленный герой, Хвалу тебе пою!\n",
    "\n",
    "Варкалось. Хливкие шорьки Пырялись по наве. И хрюкотали зелюки, Как мюмзики в мове.''')"
   ]
  }
 ],
 "metadata": {
  "kernelspec": {
   "display_name": "Python 3 (ipykernel)",
   "language": "python",
   "name": "python3"
  },
  "language_info": {
   "codemirror_mode": {
    "name": "ipython",
    "version": 3
   },
   "file_extension": ".py",
   "mimetype": "text/x-python",
   "name": "python",
   "nbconvert_exporter": "python",
   "pygments_lexer": "ipython3",
   "version": "3.9.12"
  }
 },
 "nbformat": 4,
 "nbformat_minor": 5
}
