{
 "cells": [
  {
   "cell_type": "markdown",
   "id": "9dcb495e",
   "metadata": {},
   "source": [
    "## ДЗ №2"
   ]
  },
  {
   "cell_type": "markdown",
   "id": "5c8b3450",
   "metadata": {},
   "source": [
    "##### 1) Сделайте так, чтобы число секунд отображалось в виде дни:часы:минуты:секунды."
   ]
  },
  {
   "cell_type": "code",
   "execution_count": 19,
   "id": "781936c3",
   "metadata": {},
   "outputs": [
    {
     "name": "stdout",
     "output_type": "stream",
     "text": [
      "Введите число секунд:3888001\n",
      "45:0:0:1.\n"
     ]
    }
   ],
   "source": [
    "seconds = int(input(\"Введите число секунд:\"))\n",
    "if seconds >= 0:\n",
    "    days = seconds//(60*60*24)\n",
    "    a = seconds%(60*60*24)\n",
    "    \n",
    "    hours = a//(60*60)\n",
    "    a = seconds%(60*60)\n",
    "    \n",
    "    minutes = a//60\n",
    "    a = seconds%60\n",
    "    \n",
    "    seconds = a\n",
    "    \n",
    "    print(f'{days}:{hours}:{minutes}:{seconds}.')"
   ]
  },
  {
   "cell_type": "markdown",
   "id": "3ea8a9bb",
   "metadata": {},
   "source": [
    "##### 2) Калькулятор, который запрашивает на входе две переменные и знак, и в соответствии с знаком ( + - * / ) выводит результат"
   ]
  },
  {
   "cell_type": "code",
   "execution_count": 13,
   "id": "0aaad493",
   "metadata": {},
   "outputs": [
    {
     "name": "stdout",
     "output_type": "stream",
     "text": [
      "Введите первую переменную:4\n",
      "Введите вторую переменную:5\n",
      "Введите знак:*\n",
      "4.0*5.0=20.0\n"
     ]
    }
   ],
   "source": [
    "x1 = float(input(\"Введите первую переменную:\"))\n",
    "x2 = float(input(\"Введите вторую переменную:\"))\n",
    "sign = input(\"Введите знак:\")\n",
    "\n",
    "if sign == '-':\n",
    "    print(f'{x1}{sign}{x2}={x1-x2}')\n",
    "elif sign == '+':    \n",
    "    print(f'{x1}{sign}{x2}={x1+x2}')\n",
    "elif sign == '/':    \n",
    "    print(f'{x1}{sign}{x2}={x1/x2}')\n",
    "elif sign == '*':    \n",
    "    print(f'{x1}{sign}{x2}={x1*x2}')\n",
    "else:\n",
    "    print(\"Try again\")    "
   ]
  },
  {
   "cell_type": "markdown",
   "id": "3a9456b9",
   "metadata": {},
   "source": [
    "##### 3)Считайте 2 строки и выведите их на печать, разделив символом $."
   ]
  },
  {
   "cell_type": "code",
   "execution_count": 27,
   "id": "2f4e8818",
   "metadata": {},
   "outputs": [
    {
     "name": "stdout",
     "output_type": "stream",
     "text": [
      "4500\n",
      "salary\n",
      "4500$salary\n",
      "4500$salary\n",
      "4500$salary\n"
     ]
    }
   ],
   "source": [
    "x1 = input()\n",
    "x2 = input()\n",
    "print(x1 + \"$\" + x2)\n",
    "print(x1, x2, sep = \"$\")\n",
    "print(f'{x1}${x2}')"
   ]
  },
  {
   "cell_type": "markdown",
   "id": "3178f2dd",
   "metadata": {},
   "source": [
    "##### 4) Напишите поздравление с Днем рождения, где программа считает имя и возраст и выведет поздравление столько раз, сколько лет именнинику"
   ]
  },
  {
   "cell_type": "code",
   "execution_count": 28,
   "id": "76232c11",
   "metadata": {},
   "outputs": [
    {
     "name": "stdout",
     "output_type": "stream",
     "text": [
      "Введите имя именинникаAlex\n",
      "Введите сколько лет имениннику13\n",
      "С днём рождения, Alex!\n",
      "С днём рождения, Alex!\n",
      "С днём рождения, Alex!\n",
      "С днём рождения, Alex!\n",
      "С днём рождения, Alex!\n",
      "С днём рождения, Alex!\n",
      "С днём рождения, Alex!\n",
      "С днём рождения, Alex!\n",
      "С днём рождения, Alex!\n",
      "С днём рождения, Alex!\n",
      "С днём рождения, Alex!\n",
      "С днём рождения, Alex!\n",
      "С днём рождения, Alex!\n",
      "\n"
     ]
    }
   ],
   "source": [
    "name = input(\"Введите имя именинника\")\n",
    "age = int(input(\"Введите сколько лет имениннику\"))\n",
    "print(f'С днём рождения, {name}!\\n'*age)"
   ]
  },
  {
   "cell_type": "markdown",
   "id": "1d983faa",
   "metadata": {},
   "source": []
  }
 ],
 "metadata": {
  "kernelspec": {
   "display_name": "Python 3 (ipykernel)",
   "language": "python",
   "name": "python3"
  },
  "language_info": {
   "codemirror_mode": {
    "name": "ipython",
    "version": 3
   },
   "file_extension": ".py",
   "mimetype": "text/x-python",
   "name": "python",
   "nbconvert_exporter": "python",
   "pygments_lexer": "ipython3",
   "version": "3.9.12"
  }
 },
 "nbformat": 4,
 "nbformat_minor": 5
}
