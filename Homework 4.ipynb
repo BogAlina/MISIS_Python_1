{
 "cells": [
  {
   "cell_type": "markdown",
   "id": "a311d8ba",
   "metadata": {},
   "source": [
    "## ДЗ"
   ]
  },
  {
   "cell_type": "markdown",
   "id": "6ae5641c",
   "metadata": {},
   "source": [
    "### 1. Напишите функцию, извлекающую корень n-й степени из числа x. По умолчанию def будет извлекать квадратный корень:"
   ]
  },
  {
   "cell_type": "code",
   "execution_count": 14,
   "id": "b0a71f91",
   "metadata": {},
   "outputs": [],
   "source": [
    "def sqrt(x, n = 2):\n",
    "    ans = x**(1/n)\n",
    "    return ans"
   ]
  },
  {
   "cell_type": "code",
   "execution_count": 13,
   "id": "aa0b7c1a",
   "metadata": {},
   "outputs": [
    {
     "data": {
      "text/plain": [
       "9.0"
      ]
     },
     "execution_count": 13,
     "metadata": {},
     "output_type": "execute_result"
    }
   ],
   "source": [
    "sqrt(81, 2)"
   ]
  },
  {
   "cell_type": "code",
   "execution_count": 15,
   "id": "000b2937",
   "metadata": {},
   "outputs": [
    {
     "data": {
      "text/plain": [
       "2.0"
      ]
     },
     "execution_count": 15,
     "metadata": {},
     "output_type": "execute_result"
    }
   ],
   "source": [
    "sqrt(4)"
   ]
  },
  {
   "cell_type": "markdown",
   "id": "f5bc42f8",
   "metadata": {},
   "source": [
    "### 2. Перепишите ваш код для проверки расширения из прошлого ДЗ в функцию которая принимает список расширений и имя файла"
   ]
  },
  {
   "cell_type": "code",
   "execution_count": 31,
   "id": "1d115d09",
   "metadata": {},
   "outputs": [],
   "source": [
    "def file_extension(file, extensions = []):\n",
    "    if file.count('.') > 0:\n",
    "        rfind = file.rfind(\".\")  \n",
    "        extension = file[rfind + 1:]\n",
    "\n",
    "        if extension in extensions:\n",
    "            print(\"Ваше расширение:\", file[rfind+1:])\n",
    "        else:\n",
    "            print(\"Расширение не допустимое.\")\n",
    "    else:\n",
    "        print(\"Нет расширения.\")"
   ]
  },
  {
   "cell_type": "code",
   "execution_count": 28,
   "id": "d09869c9",
   "metadata": {},
   "outputs": [
    {
     "name": "stdout",
     "output_type": "stream",
     "text": [
      "Ваше расширение: gif\n"
     ]
    }
   ],
   "source": [
    "file = 'Моя диссертац.gif'\n",
    "extensions = ['png', 'jpg', 'jpeg', 'gif', 'svg']\n",
    "file_extension(file, extensions)"
   ]
  },
  {
   "cell_type": "code",
   "execution_count": 32,
   "id": "f5df329e",
   "metadata": {},
   "outputs": [
    {
     "name": "stdout",
     "output_type": "stream",
     "text": [
      "Нет расширения.\n"
     ]
    }
   ],
   "source": [
    "file = 'Моя диссертацgif'\n",
    "extensions = ['png', 'jpg', 'jpeg', 'gif', 'svg']\n",
    "file_extension(file, extensions)"
   ]
  },
  {
   "cell_type": "code",
   "execution_count": 30,
   "id": "be636f76",
   "metadata": {},
   "outputs": [
    {
     "name": "stdout",
     "output_type": "stream",
     "text": [
      "Расширение не допустимое.\n"
     ]
    }
   ],
   "source": [
    "file = 'Моя диссертац.docx'\n",
    "extensions = ['png', 'jpg', 'jpeg', 'gif', 'svg']\n",
    "file_extension(file, extensions)"
   ]
  },
  {
   "cell_type": "markdown",
   "id": "c7959c71",
   "metadata": {},
   "source": [
    "### 3.Слейте воедино три словаря"
   ]
  },
  {
   "cell_type": "code",
   "execution_count": 33,
   "id": "9e1be32f",
   "metadata": {},
   "outputs": [],
   "source": [
    "dict_a = {1:10, 2:20}\n",
    "dict_b = {3:30, 4:40}\n",
    "dict_c = {5:50, 6:60}"
   ]
  },
  {
   "cell_type": "code",
   "execution_count": 38,
   "id": "bebbe1f5",
   "metadata": {},
   "outputs": [],
   "source": [
    "merged_dict = {**dict_a, **dict_b, **dict_c}"
   ]
  },
  {
   "cell_type": "code",
   "execution_count": 39,
   "id": "8e22555c",
   "metadata": {},
   "outputs": [
    {
     "data": {
      "text/plain": [
       "{1: 10, 2: 20, 3: 30, 4: 40, 5: 50, 6: 60}"
      ]
     },
     "execution_count": 39,
     "metadata": {},
     "output_type": "execute_result"
    }
   ],
   "source": [
    "merged_dict"
   ]
  },
  {
   "cell_type": "markdown",
   "id": "c96ccb42",
   "metadata": {},
   "source": [
    "### 4.Напишите функцию которая будет складывать цифры внутри числа"
   ]
  },
  {
   "cell_type": "code",
   "execution_count": 43,
   "id": "60735689",
   "metadata": {},
   "outputs": [],
   "source": [
    "def function_4(num):\n",
    "    sum = 0\n",
    "    while (num != 0):\n",
    "        sum = sum + num % 10\n",
    "        num = num // 10\n",
    "    print(\"Сумма цифр числа равна: \", sum)"
   ]
  },
  {
   "cell_type": "code",
   "execution_count": 44,
   "id": "4c10aced",
   "metadata": {},
   "outputs": [
    {
     "name": "stdout",
     "output_type": "stream",
     "text": [
      "Сумма цифр числа равна:  19\n"
     ]
    }
   ],
   "source": [
    "function_4(6733)"
   ]
  },
  {
   "cell_type": "markdown",
   "id": "7ebfe5e4",
   "metadata": {},
   "source": [
    "### 5. Нужно проверить, все ли числа в последовательности уникальны."
   ]
  },
  {
   "cell_type": "code",
   "execution_count": 2,
   "id": "4e58f79c",
   "metadata": {},
   "outputs": [],
   "source": [
    "numbers=[1,4,5]"
   ]
  },
  {
   "cell_type": "code",
   "execution_count": 3,
   "id": "1f8745e0",
   "metadata": {},
   "outputs": [
    {
     "name": "stdout",
     "output_type": "stream",
     "text": [
      "Все элементы уникальны\n"
     ]
    }
   ],
   "source": [
    "setnumbers = set(numbers)\n",
    "if len(numbers) == len(setnumbers):\n",
    "    print(\"Все элементы уникальны\")\n",
    "else:\n",
    "    print(\"Есть одинаковые\")"
   ]
  },
  {
   "cell_type": "markdown",
   "id": "dc01db42",
   "metadata": {},
   "source": [
    "### 6.Создать функцию, которая просто печатает все элементы заданного ей списка:"
   ]
  },
  {
   "cell_type": "code",
   "execution_count": 27,
   "id": "c8fa123f",
   "metadata": {},
   "outputs": [],
   "source": [
    "def print_list(my_list = []):\n",
    "    print(\"Элементы списка: \\n\")\n",
    "    print(*my_list, sep = \"\\n\") "
   ]
  },
  {
   "cell_type": "code",
   "execution_count": 28,
   "id": "942203b1",
   "metadata": {},
   "outputs": [
    {
     "name": "stdout",
     "output_type": "stream",
     "text": [
      "Элементы списка: \n",
      "\n",
      "Hello\n",
      "3\n",
      "3445\n",
      "LOL\n"
     ]
    }
   ],
   "source": [
    "lst = [\"Hello\", 3, 3445, \"LOL\"] \n",
    "print_list(lst)"
   ]
  },
  {
   "cell_type": "code",
   "execution_count": 29,
   "id": "8e92ada2",
   "metadata": {},
   "outputs": [
    {
     "name": "stdout",
     "output_type": "stream",
     "text": [
      "НОМЕР 1 --> я\n",
      "НОМЕР 2 --> не\n",
      "НОМЕР 3 --> в\n",
      "НОМЕР 4 --> отпуск\n"
     ]
    }
   ],
   "source": [
    "def print_list(my_list):\n",
    "    for value in my_list:\n",
    "        key = my_list.index(value) + 1\n",
    "        print(f\"НОМЕР {key} --> {value}\")\n",
    "        pass\n",
    "    \n",
    "    \n",
    "print_list([\"я\", \"не\", \"в\", \"отпуск\" ])"
   ]
  },
  {
   "cell_type": "code",
   "execution_count": 30,
   "id": "f0dcfed1",
   "metadata": {},
   "outputs": [
    {
     "name": "stdout",
     "output_type": "stream",
     "text": [
      "КЛЮЧ <key1> --> 2\n",
      "КЛЮЧ <key3> --> False\n",
      "КЛЮЧ <Приветствие> --> Hello\n"
     ]
    }
   ],
   "source": [
    "def print_dict(my_dict):\n",
    "    keys = list(my_dict.keys())\n",
    "    for i in keys:\n",
    "        value = my_dict[i]\n",
    "        print(f\"КЛЮЧ <{i}> --> {value}\")\n",
    "    pass\n",
    "\n",
    "\n",
    "print_dict({\"key1\": 2, \"key3\": False, \"Приветствие\": \"Hello\"})"
   ]
  },
  {
   "cell_type": "code",
   "execution_count": 31,
   "id": "c1db7941",
   "metadata": {},
   "outputs": [
    {
     "name": "stdout",
     "output_type": "stream",
     "text": [
      "КЛЮЧ <key1> --> 1\n",
      "КЛЮЧ <key2> --> [1, 2, 3, 4]\n",
      "КЛЮЧ <key3> --> Hello\n",
      "КЛЮЧ <key4> --> {'ciao': 'Mondo', 'Привет': 'О дивный мир'}\n",
      "НОМЕР 1 --> я\n",
      "НОМЕР 2 --> не\n",
      "НОМЕР 3 --> в\n",
      "НОМЕР 4 --> отпуск\n"
     ]
    }
   ],
   "source": [
    "def print_overlord(mydict):\n",
    "    if isinstance(mydict, list):\n",
    "        print_list(mydict)\n",
    "    elif isinstance(mydict, dict):\n",
    "        print_dict(mydict)\n",
    "    pass  \n",
    "\n",
    "\n",
    "print_overlord(dict(key1=1,\n",
    "            key2=[1, 2, 3, 4], \n",
    "            key3='Hello', \n",
    "            key4={\"ciao\":\"Mondo\", \"Привет\": \"О дивный мир\"}))\n",
    "print_overlord([\"я\", \"не\", \"в\", \"отпуск\" ])"
   ]
  },
  {
   "cell_type": "markdown",
   "id": "a22014fb",
   "metadata": {},
   "source": [
    "## 7. Придумать две темы из IT про которые вам было бы интересно послушать"
   ]
  },
  {
   "cell_type": "markdown",
   "id": "87afec9b",
   "metadata": {},
   "source": [
    "- A/B-тестирование\n",
    "- Визуализация данных"
   ]
  }
 ],
 "metadata": {
  "kernelspec": {
   "display_name": "Python 3 (ipykernel)",
   "language": "python",
   "name": "python3"
  },
  "language_info": {
   "codemirror_mode": {
    "name": "ipython",
    "version": 3
   },
   "file_extension": ".py",
   "mimetype": "text/x-python",
   "name": "python",
   "nbconvert_exporter": "python",
   "pygments_lexer": "ipython3",
   "version": "3.9.12"
  }
 },
 "nbformat": 4,
 "nbformat_minor": 5
}
