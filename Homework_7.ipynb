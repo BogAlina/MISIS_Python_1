{
  "cells": [
    {
      "cell_type": "markdown",
      "id": "b5687968",
      "metadata": {
        "id": "b5687968"
      },
      "source": [
        "# ДЗ"
      ]
    },
    {
      "cell_type": "markdown",
      "id": "1d4c30fc",
      "metadata": {
        "id": "1d4c30fc"
      },
      "source": [
        "### 1. Написать бота который будет проверять доступность сайта\n"
      ]
    },
    {
      "cell_type": "code",
      "execution_count": null,
      "id": "b9993316",
      "metadata": {
        "id": "b9993316",
        "outputId": "a8be6af5-da57-4b74-952a-81be7b3d8c9a"
      },
      "outputs": [
        {
          "ename": "ModuleNotFoundError",
          "evalue": "No module named 'telebot'",
          "output_type": "error",
          "traceback": [
            "\u001b[1;31m---------------------------------------------------------------------------\u001b[0m",
            "\u001b[1;31mModuleNotFoundError\u001b[0m                       Traceback (most recent call last)",
            "Input \u001b[1;32mIn [2]\u001b[0m, in \u001b[0;36m<cell line: 1>\u001b[1;34m()\u001b[0m\n\u001b[1;32m----> 1\u001b[0m \u001b[38;5;28;01mfrom\u001b[39;00m \u001b[38;5;21;01mtelebot\u001b[39;00m \u001b[38;5;28;01mimport\u001b[39;00m \u001b[38;5;241m*\u001b[39m\n\u001b[0;32m      2\u001b[0m \u001b[38;5;28;01mimport\u001b[39;00m \u001b[38;5;21;01mrequests\u001b[39;00m\n\u001b[0;32m      4\u001b[0m url \u001b[38;5;241m=\u001b[39m \u001b[38;5;124m'\u001b[39m\u001b[38;5;124m'\u001b[39m\n",
            "\u001b[1;31mModuleNotFoundError\u001b[0m: No module named 'telebot'"
          ]
        }
      ],
      "source": [
        "from telebot import *\n",
        "import requests      \n",
        "\n",
        "url = ''\n",
        "bot = telebot.TeleBot(':')\n",
        "\n",
        "@bot.message_handler(commands=[\"start\"])\n",
        "def start(message):\n",
        "    bot.send_message(message.chat.id, 'Хей! Я проверяю сайт на доступность.')\n",
        "\n",
        "@bot.message_handler(content_types=[\"text\"])\n",
        "def check_url(message):\n",
        "    response = None\n",
        "    global url\n",
        "    if message.text.find('http') == -1:\n",
        "        url = 'https://' + message.text\n",
        "    else:\n",
        "        url = message.text\n",
        "    try:\n",
        "        response = requests.get(url)\n",
        "        keyboard = types.InlineKeyboardMarkup()\n",
        "        key_yes = types.InlineKeyboardButton(text='Да', callback_data='yes');\n",
        "        keyboard.add(key_yes)\n",
        "        key_no = types.InlineKeyboardButton(text='В другой раз', callback_data='no'); \n",
        "        keyboard.add(key_no)\n",
        "        bot.send_message(message.chat.id, 'Сайт доступен, можем перейти на него:)', reply_markup=keyboard)\n",
        "    except: \n",
        "        if response is not None:\n",
        "            bot.send_message(message.chat.id, 'Сайт в недоступен:', response.status_code)\n",
        "        else:\n",
        "            bot.send_message(message.chat.id, 'Проверьте ссылку')\n",
        "            \n",
        "@bot.callback_query_handler(func = lambda call: True)\n",
        "def callback_worker(call):\n",
        "    if call.data == \"yes\":\n",
        "        keyboard = types.InlineKeyboardMarkup()\n",
        "        button_url = types.InlineKeyboardButton(text=f'{url}', url=f'{url}')\n",
        "        keyboard.add(button_url)\n",
        "        bot.send_message(call.message.chat.id, 'Счастливого пути!', reply_markup=keyboard)\n",
        "    elif call.data == \"no\":\n",
        "        bot.send_message(call.message.chat.id, 'Понятно')\n",
        "        \n",
        "bot.polling(none_stop=True, interval=0)\n"
      ]
    },
    {
      "cell_type": "markdown",
      "id": "56675b87",
      "metadata": {
        "id": "56675b87"
      },
      "source": [
        "## 2. Написать бота который будет анализировать текст - (Статистика, количество уникальных слов, самые популярные слова, кроме союзов и предлогов, количество предложений)"
      ]
    },
    {
      "cell_type": "code",
      "execution_count": null,
      "id": "9df03fb0",
      "metadata": {
        "id": "9df03fb0"
      },
      "outputs": [],
      "source": [
        "from telebot import *\n",
        "import re\n",
        "from collections import Counter\n",
        "\n",
        "conj_prep = '''что, будто, если, когда, словно, чтобы, как, ибо, пока, и, тоже, также, ни, а, но, однако,\n",
        "зато, же, только, или, либо, то, когда, пока, едва, лишь, вследствие, как, точно, будто, \n",
        "чтобы, дабы, если, когда, коли, ежели, раз, хотя, поэтому, потому'''\n",
        "current_page = 1\n",
        "pages = 1\n",
        "words = []\n",
        "\n",
        "keyboard = telebot.types.InlineKeyboardMarkup()\n",
        "keyboard.row(   telebot.types.InlineKeyboardButton('<', callback_data = '<'),\n",
        "                telebot.types.InlineKeyboardButton('' + str(current_page), callback_data = ' '),\n",
        "                telebot.types.InlineKeyboardButton('>', callback_data = '>'))\n",
        "\n",
        "bot = telebot.TeleBot(':')\n",
        "\n",
        "@bot.message_handler(commands=[\"start\"])\n",
        "def start(message):\n",
        "    bot.send_message(message.chat.id, 'Хей! Пришли мне любой текст и я составлю по нему статистику.')\n",
        "    \n",
        "@bot.message_handler(content_types=[\"text\"])\n",
        "def analyzer(message):\n",
        "    global words\n",
        "    text = message.text\n",
        "    words = list(filter(None, re.split(r'[\\s!\\,\\.:\\—\\?\\-\\;\\(\\)]+', text))) \n",
        "    current_page = 1\n",
        "    pages = 1\n",
        "    \n",
        "    update_stat(message, False)\n",
        "    \n",
        "    clean_words = filter(lambda w: w not in conj_prep, words)    \n",
        "    bot.send_message(message.chat.id, 'Самое популярные слова:\\n' + '\\n'.join((c[0] + ' - ' + str(c[1]) + ' раз(а)') for c in Counter(clean_words).most_common(5)))\n",
        "    bot.send_message(message.chat.id, 'Самое длинное:\\n' + max(words, key = len))\n",
        "    \n",
        "    if text.strip()[-1] == '.':\n",
        "        bot.send_message(message.chat.id, 'Количество предложений: ' + str(message.text.count('.')))\n",
        "    else:\n",
        "        bot.send_message(message.chat.id, 'Количество предложений: ' + str(message.text.count('.') + 1))\n",
        "\n",
        "\n",
        "@bot.callback_query_handler(func = lambda call: True)\n",
        "def turn_page(call):\n",
        "    global current_page\n",
        "    if call.data == '>' and current_page != pages:\n",
        "        current_page += 1\n",
        "        update_stat(call, True)\n",
        "    elif call.data == '<' and current_page != 1:\n",
        "        current_page -= 1\n",
        "        update_stat(call, True)\n",
        "           \n",
        "    \n",
        "def update_stat(message, isUpdate): \n",
        "    global current_page\n",
        "    global pages\n",
        "    global words\n",
        "    \n",
        "    pages = len(words) // 20 + 1    \n",
        "    l = len(''.join(words))\n",
        "    result = []\n",
        "    \n",
        "    keyboard = telebot.types.InlineKeyboardMarkup()\n",
        "    keyboard.row(   telebot.types.InlineKeyboardButton('<', callback_data = '<'),\n",
        "                    telebot.types.InlineKeyboardButton('' + str(current_page), callback_data = ' '),\n",
        "                    telebot.types.InlineKeyboardButton('>', callback_data = '>'))\n",
        "                    \n",
        "    for w in words[(current_page-1)*20:current_page*20]:\n",
        "        result.append(w + ' - {0:.2f}%\\n'.format(len(w)/l*100))\n",
        "    \n",
        "    if isUpdate == False:\n",
        "        bot.send_message(message.chat.id, ''.join(result), reply_markup = keyboard)\n",
        "    else:\n",
        "        bot.edit_message_text(chat_id = message.message.chat.id, message_id = message.message.message_id, text = ''.join(result), reply_markup = keyboard)    \n",
        "    \n",
        "bot.polling(none_stop=True, interval=0)"
      ]
    },
    {
      "cell_type": "markdown",
      "id": "3c1321f2",
      "metadata": {
        "id": "3c1321f2"
      },
      "source": [
        "## 3. Бот калькулятор"
      ]
    },
    {
      "cell_type": "code",
      "execution_count": null,
      "id": "3daeef21",
      "metadata": {
        "id": "3daeef21",
        "outputId": "8d4de691-3db9-4aa4-b7f1-30d24169b568"
      },
      "outputs": [
        {
          "ename": "ModuleNotFoundError",
          "evalue": "No module named 'telebot'",
          "output_type": "error",
          "traceback": [
            "\u001b[1;31m---------------------------------------------------------------------------\u001b[0m",
            "\u001b[1;31mModuleNotFoundError\u001b[0m                       Traceback (most recent call last)",
            "Input \u001b[1;32mIn [1]\u001b[0m, in \u001b[0;36m<cell line: 1>\u001b[1;34m()\u001b[0m\n\u001b[1;32m----> 1\u001b[0m \u001b[38;5;28;01mfrom\u001b[39;00m \u001b[38;5;21;01mtelebot\u001b[39;00m \u001b[38;5;28;01mimport\u001b[39;00m \u001b[38;5;241m*\u001b[39m\n\u001b[0;32m      2\u001b[0m \u001b[38;5;28;01mimport\u001b[39;00m \u001b[38;5;21;01mre\u001b[39;00m\n\u001b[0;32m      4\u001b[0m bot \u001b[38;5;241m=\u001b[39m telebot\u001b[38;5;241m.\u001b[39mTeleBot(\u001b[38;5;124m'\u001b[39m\u001b[38;5;124m5484367819:AAGIXJY2g79SaJ3PmZTJJxgSzRxHPLQhbn4\u001b[39m\u001b[38;5;124m'\u001b[39m)\n",
            "\u001b[1;31mModuleNotFoundError\u001b[0m: No module named 'telebot'"
          ]
        }
      ],
      "source": [
        "from telebot import *\n",
        "import re\n",
        "\n",
        "bot = telebot.TeleBot(':')\n",
        "value = ''\n",
        "prev_value = ''\n",
        "\n",
        "keyboard = telebot.types.InlineKeyboardMarkup()\n",
        "keyboard.row(   telebot.types.InlineKeyboardButton('CE', callback_data = 'CE'),\n",
        "                telebot.types.InlineKeyboardButton('C', callback_data = 'C'),\n",
        "                telebot.types.InlineKeyboardButton('<=', callback_data = '<='),\n",
        "                telebot.types.InlineKeyboardButton('/', callback_data = '/'))\n",
        "                \n",
        "keyboard.row(   telebot.types.InlineKeyboardButton('7', callback_data = '7'),\n",
        "                telebot.types.InlineKeyboardButton('8', callback_data = '8'),\n",
        "                telebot.types.InlineKeyboardButton('9', callback_data = '9'),\n",
        "                telebot.types.InlineKeyboardButton('*', callback_data = '*'))\n",
        "                \n",
        "keyboard.row(   telebot.types.InlineKeyboardButton('4', callback_data = '4'),\n",
        "                telebot.types.InlineKeyboardButton('5', callback_data = '5'),\n",
        "                telebot.types.InlineKeyboardButton('6', callback_data = '6'),\n",
        "                telebot.types.InlineKeyboardButton('-', callback_data = '-'))\n",
        "                \n",
        "keyboard.row(   telebot.types.InlineKeyboardButton('1', callback_data = '1'),\n",
        "                telebot.types.InlineKeyboardButton('2', callback_data = '2'),\n",
        "                telebot.types.InlineKeyboardButton('3', callback_data = '3'),\n",
        "                telebot.types.InlineKeyboardButton('+', callback_data = '+'))\n",
        "                \n",
        "keyboard.row(   telebot.types.InlineKeyboardButton('+-', callback_data = '+-'),\n",
        "                telebot.types.InlineKeyboardButton('0', callback_data = '0'),\n",
        "                telebot.types.InlineKeyboardButton('.', callback_data = '.'),\n",
        "                telebot.types.InlineKeyboardButton('=', callback_data = '='))\n",
        "\n",
        "@bot.message_handler(commands=[\"start\"])\n",
        "def start(message):\n",
        "    global value\n",
        "    if value == '':\n",
        "        bot.send_message(message.chat.id, '0', reply_markup = keyboard)\n",
        "    else:\n",
        "        bot.send_message(message.chat.id, value, reply_markup = keyboard)\n",
        "    \n",
        "@bot.callback_query_handler(func = lambda call: True)\n",
        "def callback_worker(call):\n",
        "    global value, prev_value\n",
        "    if call.data == 'CE':\n",
        "        value = ''.join(re.split(r'[\\*\\/\\+\\-]', value)[:-1])\n",
        "    elif call.data == 'C':\n",
        "        value = ''\n",
        "    elif call.data == '<=':\n",
        "        if value != '':\n",
        "            value = value[:-1]\n",
        "    elif call.data == '+-':\n",
        "        if value[0] == '-':\n",
        "            value = value[1:]\n",
        "        else:\n",
        "            value = '-' + value\n",
        "    elif call.data == '=':\n",
        "        try:\n",
        "            value = str(eval(value))\n",
        "        except:\n",
        "            value = 'Error'\n",
        "    else:\n",
        "        value += call.data\n",
        "        \n",
        "    if value != prev_value:\n",
        "        if value == '':\n",
        "            bot.edit_message_text(chat_id = call.message.chat.id, message_id = call.message.message_id, text = '0', reply_markup = keyboard)\n",
        "            prev_value = '0'\n",
        "        else:\n",
        "            bot.edit_message_text(chat_id = call.message.chat.id, message_id = call.message.message_id, text = value, reply_markup = keyboard)\n",
        "            prev_value = value\n",
        "   \n",
        "    if value == 'Ошибка':\n",
        "        value = ''\n",
        "\n",
        "\n",
        "bot.polling(none_stop=True, interval=0)"
      ]
    }
  ],
  "metadata": {
    "kernelspec": {
      "display_name": "Python 3 (ipykernel)",
      "language": "python",
      "name": "python3"
    },
    "language_info": {
      "codemirror_mode": {
        "name": "ipython",
        "version": 3
      },
      "file_extension": ".py",
      "mimetype": "text/x-python",
      "name": "python",
      "nbconvert_exporter": "python",
      "pygments_lexer": "ipython3",
      "version": "3.9.12"
    },
    "colab": {
      "provenance": []
    }
  },
  "nbformat": 4,
  "nbformat_minor": 5
}