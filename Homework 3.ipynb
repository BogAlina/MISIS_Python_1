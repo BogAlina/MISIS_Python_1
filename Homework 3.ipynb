{
 "cells": [
  {
   "cell_type": "markdown",
   "id": "afb8d29e",
   "metadata": {},
   "source": [
    "## ПРАКТИКА (ДЗ)"
   ]
  },
  {
   "cell_type": "markdown",
   "id": "77b402aa",
   "metadata": {},
   "source": [
    "### Задача 1 Какой месяц\n"
   ]
  },
  {
   "cell_type": "code",
   "execution_count": 1,
   "id": "30b911e0",
   "metadata": {},
   "outputs": [
    {
     "name": "stdout",
     "output_type": "stream",
     "text": [
      "Впишите номер месяца:1\n",
      "январь\n"
     ]
    }
   ],
   "source": [
    "months = [ 'январь' , 'февраль' , 'март', 'апрель', 'май', 'июнь', \n",
    "          'июль', 'август', 'сентябрь', 'октябрь', 'ноябрь', 'декабрь'] \n",
    "month = input('Впишите номер месяца:')\n",
    "\n",
    "if month.isdigit():\n",
    "    month = int(month)\n",
    "    \n",
    "    if month<=len(months) and month>0:\n",
    "         print(f'{months[month-1]}')\n",
    "    else:\n",
    "        print('Всего в году 12 месяцев, впишите подходящее число :)')\n",
    "else:\n",
    "    print('Введите число!')"
   ]
  },
  {
   "cell_type": "markdown",
   "id": "7ced1373",
   "metadata": {},
   "source": [
    "### Задача 2 Наибольший общий делитель"
   ]
  },
  {
   "cell_type": "code",
   "execution_count": 34,
   "id": "5ab7d0b8",
   "metadata": {},
   "outputs": [
    {
     "name": "stdout",
     "output_type": "stream",
     "text": [
      "Введите первое число:600\n",
      "Введите второе число:1012\n",
      "Наибольший общий делитель введеных чесел равен 4\n"
     ]
    }
   ],
   "source": [
    "a = input('Введите первое число:')\n",
    "b = input('Введите второе число:')\n",
    "GCD = 1\n",
    "\n",
    "if a.isdigit() and b.isdigit():\n",
    "    a = int(a)\n",
    "    b = int(b)\n",
    "    temp = min(a, b)\n",
    "    for i in range(1, temp + 1):\n",
    "        if (a % i == 0) and (b % i == 0):\n",
    "            GCD = i\n",
    "\n",
    "    print(f'Наибольший общий делитель введеных чесел равен {GCD}')\n",
    "else:\n",
    "    print('Введите число!') "
   ]
  },
  {
   "cell_type": "markdown",
   "id": "2f771977",
   "metadata": {},
   "source": [
    "### Задача 3 Проверка расширения файла\n"
   ]
  },
  {
   "cell_type": "code",
   "execution_count": 26,
   "id": "6ab61295",
   "metadata": {},
   "outputs": [
    {
     "name": "stdout",
     "output_type": "stream",
     "text": [
      "Введите имя файла для проверки расширения.\n",
      "Ввод: Моя диссертац.gif\n",
      "Ваше расширение: gif\n"
     ]
    }
   ],
   "source": [
    "file = input(\"Введите имя файла для проверки расширения.\\nВвод: \")\n",
    "extensions = ['png', 'jpg', 'jpeg', 'gif', 'svg']\n",
    "if '.' in file:\n",
    "    rfind = file.rfind(\".\")  \n",
    "    extension = file[rfind+1:]\n",
    "    \n",
    "    if extension in extensions:\n",
    "        print(\"Ваше расширение:\", file[rfind+1:])\n",
    "    else:\n",
    "        print(\"Расширение не допустимое.\")\n",
    "else:\n",
    "    print(\"Нет расширения\")"
   ]
  },
  {
   "cell_type": "markdown",
   "id": "55a1ea63",
   "metadata": {},
   "source": [
    "### Задача 4 Вискосный Год"
   ]
  },
  {
   "cell_type": "code",
   "execution_count": null,
   "id": "bfb62a76",
   "metadata": {},
   "outputs": [],
   "source": [
    "год, номер которого кратен 400, — високосный;\n",
    "остальные годы, номер которых кратен 100, — невисокосные;\n",
    "остальные годы, номер которых кратен 4, — високосные."
   ]
  },
  {
   "cell_type": "code",
   "execution_count": 29,
   "id": "67af9750",
   "metadata": {},
   "outputs": [
    {
     "name": "stdout",
     "output_type": "stream",
     "text": [
      "Год:2022\n",
      "2022 невисокосный\n"
     ]
    }
   ],
   "source": [
    "year = int(input('Год:'))\n",
    "if year % 400 == 0:\n",
    "    print(f'{year} високосный год')\n",
    "elif year % 100:\n",
    "    print(f'{year} невисокосный год')\n",
    "elif year % 4:\n",
    "    print(f'{year} високосный год')\n",
    "else:\n",
    "    print(f'{year} невисокосный год')"
   ]
  }
 ],
 "metadata": {
  "kernelspec": {
   "display_name": "Python 3 (ipykernel)",
   "language": "python",
   "name": "python3"
  },
  "language_info": {
   "codemirror_mode": {
    "name": "ipython",
    "version": 3
   },
   "file_extension": ".py",
   "mimetype": "text/x-python",
   "name": "python",
   "nbconvert_exporter": "python",
   "pygments_lexer": "ipython3",
   "version": "3.9.12"
  }
 },
 "nbformat": 4,
 "nbformat_minor": 5
}
